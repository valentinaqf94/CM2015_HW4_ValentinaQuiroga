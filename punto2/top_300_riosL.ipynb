{
 "metadata": {
  "name": "",
  "signature": "sha256:6c45a4410af84142b16185c9460c8fbd79a188d470771a7eaefae0a1c8e6c627"
 },
 "nbformat": 3,
 "nbformat_minor": 0,
 "worksheets": [
  {
   "cells": [
    {
     "cell_type": "code",
     "collapsed": false,
     "input": [
      "%pylab inline\n",
      "import urllib2\n",
      "import urllib\n",
      "import Image\n",
      "#from mpl_toolkits.basemap import Basemap\n",
      "import csv\n",
      "#from matplotlib.offsetbox import OffsetImage, AnnotationBbox"
     ],
     "language": "python",
     "metadata": {},
     "outputs": [
      {
       "output_type": "stream",
       "stream": "stdout",
       "text": [
        "Populating the interactive namespace from numpy and matplotlib\n"
       ]
      }
     ],
     "prompt_number": 1
    },
    {
     "cell_type": "code",
     "collapsed": false,
     "input": [
      "url = 'http://www.cgd.ucar.edu/cas/catalog/surface/dai-runoff/coastal-stns-byVol-updated-oct2007.txt' #libreria para descargar archivos de url\n",
      "urllib.urlretrieve(url, \"catalogo.txt\")\n",
      "f = urllib.urlopen(url)\n",
      "data = f.read()\n",
      "with open(\"catalogo.txt\", \"wb\") as code: #reconstruye el archivo linea por linea\n",
      "    code.write(data)\n"
     ],
     "language": "python",
     "metadata": {},
     "outputs": [],
     "prompt_number": 2
    },
    {
     "cell_type": "code",
     "collapsed": false,
     "input": [
      "lst = map(str, open('catalogo.txt').readlines()) #convierte las lineas en una lista\n",
      "todo = np.asarray(lst) #convierte a arreglo"
     ],
     "language": "python",
     "metadata": {},
     "outputs": [],
     "prompt_number": 3
    },
    {
     "cell_type": "code",
     "collapsed": false,
     "input": [
      "##solo queremos operar con la segunda columna, se crea un arreglo de dos dimensiones con el indice y el numero buscado\n",
      "A = np.zeros((len(todo),2))\n",
      "B = np.zeros(len(todo))\n",
      "C = np.zeros(len(todo))\n",
      "for i in range(1, len(todo)):\n",
      "    a = todo[i].split(' ') #separa las lineas del arreglo por espacios\n",
      "    a[:] = [x for x in a if x != ''] #escoge todo lo que no sea espacio\n",
      "    A[i,0] = i\n",
      "    A[i,1] = a[1]\n",
      "    B[i] = a[2]\n",
      "    C[i] = a[3]\n",
      "A = A[1:,:] #define el nuuevo arreglo"
     ],
     "language": "python",
     "metadata": {},
     "outputs": [],
     "prompt_number": 4
    },
    {
     "cell_type": "code",
     "collapsed": false,
     "input": [
      "A_sorted = A[A[:, 1].argsort()] #ordena de menor a mayor el arreglo\n",
      "A_i = A_sorted[925-300:925,:] #selecciona los ultimos 300 que ya sabemos que son los mayores\n",
      "index = A_i[:,0]\n",
      "ratio = A_i[:,1]\n",
      "lon = []\n",
      "lat = []\n",
      "for el in index:\n",
      "    lon.append(B[int(el)])\n",
      "    lat.append(C[int(el)])"
     ],
     "language": "python",
     "metadata": {},
     "outputs": [],
     "prompt_number": 5
    },
    {
     "cell_type": "code",
     "collapsed": false,
     "input": [
      "EL_QUE_VA_PA_CSV = column_stack((index,ratio,lon,lat))"
     ],
     "language": "python",
     "metadata": {},
     "outputs": [],
     "prompt_number": 6
    },
    {
     "cell_type": "code",
     "collapsed": false,
     "input": [
      "fileout = open(\"hfile.csv\", \"w\")\n",
      "fileout.write('No,m2s_ratio,lonm,latm\\n') \n",
      "for i in range(300):\n",
      "    fileout.write('%f,%f,%f,%f\\n'%(index[i],ratio[i],lon[i],lat[i]))\n",
      "fileout.close()"
     ],
     "language": "python",
     "metadata": {},
     "outputs": [],
     "prompt_number": 18
    },
    {
     "cell_type": "code",
     "collapsed": false,
     "input": [
      "#for el in lat: #la lista para basemap\n",
      "    #print el\n",
      "#type(flux)\n",
      "#values = ','.join(str(v) for v in flux)\n",
      "#values.split()\n",
      "#values[::-1]"
     ],
     "language": "python",
     "metadata": {},
     "outputs": [],
     "prompt_number": 19
    },
    {
     "cell_type": "code",
     "collapsed": false,
     "input": [
      "#for el in top_300:\n",
      "    #print el\n"
     ],
     "language": "python",
     "metadata": {},
     "outputs": [],
     "prompt_number": 20
    },
    {
     "cell_type": "code",
     "collapsed": false,
     "input": [
      "a = lat\n",
      "b = lon\n",
      "c=np.column_stack((a,b)) \n",
      "d = c.tolist()"
     ],
     "language": "python",
     "metadata": {},
     "outputs": [],
     "prompt_number": 21
    },
    {
     "cell_type": "code",
     "collapsed": false,
     "input": [
      "son_todos=[] #vuelve a llenar en el arreglo inicial que tiene todos los datos\n",
      "for j in range(len(todo)):\n",
      "    b = todo[j].split(' ')\n",
      "    b[:] = [x for x in b if x != '']\n",
      "    son_todos.append(b)  \n",
      "\n"
     ],
     "language": "python",
     "metadata": {},
     "outputs": [],
     "prompt_number": 22
    },
    {
     "cell_type": "code",
     "collapsed": false,
     "input": [
      "#for j in son_todos:\n",
      "    #print j"
     ],
     "language": "python",
     "metadata": {},
     "outputs": [],
     "prompt_number": 23
    },
    {
     "cell_type": "code",
     "collapsed": false,
     "input": [
      "with open(\"top_basemap.csv\", \"wb\") as f:\n",
      "    writer = csv.writer(f)\n",
      "    writer.writerows(d)"
     ],
     "language": "python",
     "metadata": {},
     "outputs": [],
     "prompt_number": 24
    },
    {
     "cell_type": "code",
     "collapsed": false,
     "input": [
      "csvfile = \"top_300.csv\" #guarda como archivo csv\n",
      "with open(csvfile, \"w\") as output:\n",
      "    writer = csv.writer(output, delimiter=' ', quoting=csv.QUOTE_MINIMAL, lineterminator='\\n')\n",
      "    for val in son_todos:\n",
      "        writer.writerow([val])    \n",
      "with open(\"top_basemap.csv\", \"wb\") as f:\n",
      "    writer = csv.writer(f)\n",
      "    writer.writerows(d)\n",
      "myfile = open(\"top_basemap1.csv\", 'wb')\n",
      "wr = csv.writer(myfile, quoting=csv.QUOTE_ALL)\n",
      "wr.writerow(flux)"
     ],
     "language": "python",
     "metadata": {},
     "outputs": [
      {
       "ename": "NameError",
       "evalue": "name 'flux' is not defined",
       "output_type": "pyerr",
       "traceback": [
        "\u001b[0;31m---------------------------------------------------------------------------\u001b[0m\n\u001b[0;31mNameError\u001b[0m                                 Traceback (most recent call last)",
        "\u001b[0;32m<ipython-input-25-65a4d4126283>\u001b[0m in \u001b[0;36m<module>\u001b[0;34m()\u001b[0m\n\u001b[1;32m      9\u001b[0m \u001b[0mmyfile\u001b[0m \u001b[0;34m=\u001b[0m \u001b[0mopen\u001b[0m\u001b[0;34m(\u001b[0m\u001b[0;34m\"top_basemap1.csv\"\u001b[0m\u001b[0;34m,\u001b[0m \u001b[0;34m'wb'\u001b[0m\u001b[0;34m)\u001b[0m\u001b[0;34m\u001b[0m\u001b[0m\n\u001b[1;32m     10\u001b[0m \u001b[0mwr\u001b[0m \u001b[0;34m=\u001b[0m \u001b[0mcsv\u001b[0m\u001b[0;34m.\u001b[0m\u001b[0mwriter\u001b[0m\u001b[0;34m(\u001b[0m\u001b[0mmyfile\u001b[0m\u001b[0;34m,\u001b[0m \u001b[0mquoting\u001b[0m\u001b[0;34m=\u001b[0m\u001b[0mcsv\u001b[0m\u001b[0;34m.\u001b[0m\u001b[0mQUOTE_ALL\u001b[0m\u001b[0;34m)\u001b[0m\u001b[0;34m\u001b[0m\u001b[0m\n\u001b[0;32m---> 11\u001b[0;31m \u001b[0mwr\u001b[0m\u001b[0;34m.\u001b[0m\u001b[0mwriterow\u001b[0m\u001b[0;34m(\u001b[0m\u001b[0mflux\u001b[0m\u001b[0;34m)\u001b[0m\u001b[0;34m\u001b[0m\u001b[0m\n\u001b[0m",
        "\u001b[0;31mNameError\u001b[0m: name 'flux' is not defined"
       ]
      }
     ],
     "prompt_number": 25
    },
    {
     "cell_type": "code",
     "collapsed": false,
     "input": [
      "!ls"
     ],
     "language": "python",
     "metadata": {},
     "outputs": [
      {
       "output_type": "stream",
       "stream": "stdout",
       "text": [
        "air.mon.ltm.nc\tGrafica_Basemap.ipynb  rios2.csv     top_300_rios.ipynb\r\n",
        "catalogo.txt\thfile.csv\t       top_3001.csv  top_300_riosL.ipynb\r\n",
        "catalogo.xls\tinterp_mapa.ipynb      top_3002.csv  top_basemap1.csv\r\n",
        "file.csv\tpunto 1\t\t       top_300.csv   top_basemap.csv\r\n"
       ]
      }
     ],
     "prompt_number": 26
    },
    {
     "cell_type": "code",
     "collapsed": false,
     "input": [
      "!head hfile.csv"
     ],
     "language": "python",
     "metadata": {},
     "outputs": [
      {
       "output_type": "stream",
       "stream": "stdout",
       "text": [
        "No,m2s_ratio,lonm,latm\r\n",
        "156.000000,10000.000000,72.750000,21.250000\r\n",
        "299.000000,10000.000000,-9.530000,7.330000\r\n",
        "233.000000,10000.000000,73.030000,22.300000\r\n",
        "301.000000,10000.000000,-124.100000,40.490000\r\n",
        "406.000000,10000.000000,31.390000,-29.140000\r\n",
        "407.000000,10000.000000,27.400000,37.760000\r\n",
        "408.000000,10000.000000,45.980000,-21.320000\r\n",
        "409.000000,10000.000000,108.720000,-7.460000\r\n",
        "410.000000,10000.000000,-41.160000,-19.490000\r\n"
       ]
      }
     ],
     "prompt_number": 27
    },
    {
     "cell_type": "code",
     "collapsed": false,
     "input": [],
     "language": "python",
     "metadata": {},
     "outputs": [],
     "prompt_number": 297
    },
    {
     "cell_type": "code",
     "collapsed": false,
     "input": [],
     "language": "python",
     "metadata": {},
     "outputs": []
    }
   ],
   "metadata": {}
  }
 ]
}